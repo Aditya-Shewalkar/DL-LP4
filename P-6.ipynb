{
 "cells": [
  {
   "cell_type": "code",
   "execution_count": 28,
   "id": "4fcbf3c8",
   "metadata": {},
   "outputs": [],
   "source": [
    "import numpy as np\n",
    "import keras.backend as K\n",
    "from keras.models import Sequential\n",
    "from keras.layers import Dense, Embedding, Lambda\n",
    "from tensorflow.python.keras import utils\n",
    "from keras.preprocessing import sequence\n",
    "from keras.preprocessing.text import Tokenizer"
   ]
  },
  {
   "cell_type": "code",
   "execution_count": 29,
   "id": "d5bbc74c",
   "metadata": {},
   "outputs": [
    {
     "name": "stdout",
     "output_type": "stream",
     "text": [
      "Requirement already satisfied: gensim in c:\\users\\adity\\appdata\\local\\packages\\pythonsoftwarefoundation.python.3.9_qbz5n2kfra8p0\\localcache\\local-packages\\python39\\site-packages (4.3.2)Note: you may need to restart the kernel to use updated packages.\n",
      "\n",
      "Requirement already satisfied: numpy>=1.18.5 in c:\\users\\adity\\appdata\\local\\packages\\pythonsoftwarefoundation.python.3.9_qbz5n2kfra8p0\\localcache\\local-packages\\python39\\site-packages (from gensim) (1.24.4)\n",
      "Requirement already satisfied: scipy>=1.7.0 in c:\\users\\adity\\appdata\\local\\packages\\pythonsoftwarefoundation.python.3.9_qbz5n2kfra8p0\\localcache\\local-packages\\python39\\site-packages (from gensim) (1.9.0)\n",
      "Requirement already satisfied: smart-open>=1.8.1 in c:\\users\\adity\\appdata\\local\\packages\\pythonsoftwarefoundation.python.3.9_qbz5n2kfra8p0\\localcache\\local-packages\\python39\\site-packages (from gensim) (6.4.0)\n"
     ]
    },
    {
     "name": "stderr",
     "output_type": "stream",
     "text": [
      "\n",
      "[notice] A new release of pip is available: 23.2.1 -> 23.3.1\n",
      "[notice] To update, run: C:\\Users\\adity\\AppData\\Local\\Microsoft\\WindowsApps\\PythonSoftwareFoundation.Python.3.9_qbz5n2kfra8p0\\python.exe -m pip install --upgrade pip\n"
     ]
    }
   ],
   "source": [
    "pip install gensim"
   ]
  },
  {
   "cell_type": "code",
   "execution_count": 30,
   "id": "215d6bd3",
   "metadata": {},
   "outputs": [],
   "source": [
    "import gensim"
   ]
  },
  {
   "cell_type": "code",
   "execution_count": 31,
   "id": "f65916c2",
   "metadata": {},
   "outputs": [],
   "source": [
    "# Open a text file in write mode\n",
    "with open('corona.txt', 'w') as file:\n",
    "    # Write the message to the file\n",
    "    file.write(\"\"\"\n",
    "The speed of transmission is an important point of difference between the two viruses.\n",
    "Influenza has a shorter median incubation period (the time from infection to appearance of symptoms)\n",
    "and a shorter serial interval (the time between successive cases) than COVID-19 virus.\n",
    "The serial interval for COVID-19 virus is estimated to be 5-6 days, while for influenza virus, the serial interval is 3 days.\n",
    "This means that influenza can spread faster than COVID-19.\n",
    "\n",
    "Further, transmission in the first 3-5 days of illness, or potentially pre-symptomatic transmission –\n",
    "transmission of the virus before the appearance of symptoms – is a major driver of transmission for influenza.\n",
    "In contrast, while we are learning that there are people who can shed COVID-19 virus 24-48 hours prior to symptom onset,\n",
    "at present, this does not appear to be a major driver of transmission.\n",
    "\n",
    "The reproductive number – the number of secondary infections generated from one infected individual –\n",
    "is understood to be between 2 and 2.5 for COVID-19 virus, higher than for influenza.\n",
    "However, estimates for both COVID-19 and influenza viruses are very context and time-specific, making direct comparisons more difficult.\n",
    "\"\"\")"
   ]
  },
  {
   "cell_type": "code",
   "execution_count": 35,
   "id": "1b90bf02",
   "metadata": {},
   "outputs": [
    {
     "data": {
      "text/plain": [
       "['The speed of transmission is an important point of difference between the two viruses.\\n',\n",
       " 'Influenza has a shorter median incubation period (the time from infection to appearance of symptoms)\\n',\n",
       " 'and a shorter serial interval (the time between successive cases) than COVID-19 virus.\\n',\n",
       " 'The serial interval for COVID-19 virus is estimated to be 5-6 days, while for influenza virus, the serial interval is 3 days.\\n',\n",
       " 'This means that influenza can spread faster than COVID-19.\\n',\n",
       " 'Further, transmission in the first 3-5 days of illness, or potentially pre-symptomatic transmission –\\n',\n",
       " 'transmission of the virus before the appearance of symptoms – is a major driver of transmission for influenza.\\n',\n",
       " 'In contrast, while we are learning that there are people who can shed COVID-19 virus 24-48 hours prior to symptom onset,\\n',\n",
       " 'at present, this does not appear to be a major driver of transmission.\\n',\n",
       " 'The reproductive number – the number of secondary infections generated from one infected individual –\\n',\n",
       " 'is understood to be between 2 and 2.5 for COVID-19 virus, higher than for influenza.\\n',\n",
       " 'However, estimates for both COVID-19 and influenza viruses are very context and time-specific, making direct comparisons more difficult.\\n']"
      ]
     },
     "execution_count": 35,
     "metadata": {},
     "output_type": "execute_result"
    }
   ],
   "source": [
    "data=open('corona.txt','r')\n",
    "corona_data = [text for text in data if text.count(' ') >= 2]\n",
    "vectorize = Tokenizer()\n",
    "corona_data"
   ]
  },
  {
   "cell_type": "code",
   "execution_count": 33,
   "id": "896e995f",
   "metadata": {},
   "outputs": [
    {
     "name": "stdout",
     "output_type": "stream",
     "text": [
      "[[1, 38, 2, 3, 9, 39, 40, 41, 2, 42, 14, 1, 43, 23], [4, 44, 11, 24, 45, 46, 47, 1, 15, 25, 48, 10, 26, 2, 27], [12, 11, 24, 16, 17, 1, 15, 14, 49, 50, 18, 5, 6, 7], [1, 16, 17, 8, 5, 6, 7, 9, 51, 10, 19, 20, 52, 21, 28, 8, 4, 7, 1, 16, 17, 9, 29, 21], [30, 53, 31, 4, 32, 54, 55, 18, 5, 6], [56, 3, 33, 1, 57, 29, 20, 21, 2, 58, 59, 60, 61, 62, 3, 13], [3, 2, 1, 7, 63, 1, 26, 2, 27, 13, 9, 11, 34, 35, 2, 3, 8, 4], [33, 64, 28, 65, 22, 66, 31, 67, 22, 68, 69, 32, 70, 5, 6, 7, 71, 72, 73, 74, 10, 75, 76], [77, 78, 30, 79, 80, 81, 10, 19, 11, 34, 35, 2, 3], [1, 82, 36, 13, 1, 36, 2, 83, 84, 85, 25, 86, 87, 88, 13], [9, 89, 10, 19, 14, 37, 12, 37, 20, 8, 5, 6, 7, 90, 18, 8, 4], [91, 92, 8, 93, 5, 6, 12, 4, 23, 22, 94, 95, 12, 15, 96, 97, 98, 99, 100, 101]]\n"
     ]
    }
   ],
   "source": [
    "vectorize.fit_on_texts(corona_data)\n",
    "corona_data = vectorize.texts_to_sequences(corona_data)"
   ]
  },
  {
   "cell_type": "code",
   "execution_count": 18,
   "id": "a1cf4f0c",
   "metadata": {},
   "outputs": [],
   "source": [
    "# Find total no of words and total no of sentences.\n",
    "total_vocab = sum(len(s) for s in corona_data)\n",
    "word_count = len(vectorize.word_index) + 1\n",
    "window_size = 2"
   ]
  },
  {
   "cell_type": "code",
   "execution_count": 19,
   "id": "60cc8e3e",
   "metadata": {},
   "outputs": [],
   "source": [
    "# Generate the pairs of Context words and target words\n",
    "def cbow_model(data, window_size, total_vocab):\n",
    "    total_length = window_size*2\n",
    "    for text in data:\n",
    "        text_len = len(text)\n",
    "        for idx, word in enumerate(text):\n",
    "            context_word = []\n",
    "            target   = []\n",
    "            begin = idx - window_size\n",
    "            end = idx + window_size + 1\n",
    "            context_word.append([text[i] for i in range(begin, end) if 0 <= i < text_len and i != idx])\n",
    "            target.append(word)\n",
    "            contextual = sequence.pad_sequences(context_word, total_length=total_length)\n",
    "            final_target = utils.to_categorical(target, total_vocab)\n",
    "            yield(contextual, final_target)"
   ]
  },
  {
   "cell_type": "code",
   "execution_count": 20,
   "id": "38a9ce2c",
   "metadata": {},
   "outputs": [
    {
     "name": "stdout",
     "output_type": "stream",
     "text": [
      "0 0\n",
      "1 0\n",
      "2 0\n",
      "3 0\n",
      "4 0\n",
      "5 0\n",
      "6 0\n",
      "7 0\n",
      "8 0\n",
      "9 0\n"
     ]
    }
   ],
   "source": [
    "model = Sequential()\n",
    "model.add(Embedding(input_dim=total_vocab, output_dim=100, input_length=window_size*2))\n",
    "model.add(Lambda(lambda x: K.mean(x, axis=1), output_shape=(100,)))\n",
    "model.add(Dense(total_vocab, activation='softmax'))\n",
    "model.compile(loss='categorical_crossentropy', optimizer='adam')\n",
    "for i in range(10):\n",
    "    cost = 0\n",
    "    for x, y in cbow_model(data, window_size, total_vocab):\n",
    "        cost += model.train_on_batch(x,y)\n",
    "    print(i, cost)"
   ]
  },
  {
   "cell_type": "code",
   "execution_count": 21,
   "id": "5c380145",
   "metadata": {},
   "outputs": [
    {
     "data": {
      "text/plain": [
       "8"
      ]
     },
     "execution_count": 21,
     "metadata": {},
     "output_type": "execute_result"
    }
   ],
   "source": [
    "# Create vector file of some word for testing\n",
    "dimensions=100\n",
    "vect_file = open('vectors.txt' ,'w')\n",
    "vect_file.write('{} {}\\n'.format(total_vocab,dimensions))"
   ]
  },
  {
   "cell_type": "code",
   "execution_count": 22,
   "id": "9cb0f04f",
   "metadata": {},
   "outputs": [],
   "source": [
    "# Assign weights to your trained model\n",
    "weights = model.get_weights()[0]\n",
    "for text, i in vectorize.word_index.items():\n",
    "    final_vec = ' '.join(map(str, list(weights[i, :])))\n",
    "    vect_file.write('{} {}\\n'.format(text, final_vec))\n",
    "vect_file.close()"
   ]
  },
  {
   "cell_type": "code",
   "execution_count": 23,
   "id": "540dbfea",
   "metadata": {},
   "outputs": [],
   "source": [
    "# Use the vectors created in Gemsim\n",
    "cbow_output = gensim.models.KeyedVectors.load_word2vec_format('vectors.txt', binary = False, limit=100,encoding='cp1252')"
   ]
  },
  {
   "cell_type": "code",
   "execution_count": 25,
   "id": "c00fdfbd",
   "metadata": {},
   "outputs": [
    {
     "data": {
      "text/plain": [
       "[('3', 0.20359352231025696),\n",
       " ('the', 0.19478558003902435),\n",
       " ('speed', 0.17708979547023773),\n",
       " ('individual', 0.15886743366718292),\n",
       " ('means', 0.15616390109062195),\n",
       " ('onset', 0.14859910309314728),\n",
       " ('infection', 0.14327740669250488),\n",
       " ('pre', 0.14294208586215973),\n",
       " ('who', 0.13404597342014313),\n",
       " ('48', 0.12396558374166489)]"
      ]
     },
     "execution_count": 25,
     "metadata": {},
     "output_type": "execute_result"
    }
   ],
   "source": [
    "cbow_output.most_similar(positive=['virus'])"
   ]
  },
  {
   "cell_type": "code",
   "execution_count": null,
   "id": "b4b5122c",
   "metadata": {},
   "outputs": [],
   "source": []
  },
  {
   "cell_type": "code",
   "execution_count": null,
   "id": "51fb6325",
   "metadata": {},
   "outputs": [],
   "source": []
  }
 ],
 "metadata": {
  "kernelspec": {
   "display_name": "Python 3 (ipykernel)",
   "language": "python",
   "name": "python3"
  },
  "language_info": {
   "codemirror_mode": {
    "name": "ipython",
    "version": 3
   },
   "file_extension": ".py",
   "mimetype": "text/x-python",
   "name": "python",
   "nbconvert_exporter": "python",
   "pygments_lexer": "ipython3",
   "version": "3.9.13"
  }
 },
 "nbformat": 4,
 "nbformat_minor": 5
}
