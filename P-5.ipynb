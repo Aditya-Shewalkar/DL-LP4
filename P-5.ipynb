{
 "cells": [
  {
   "cell_type": "code",
   "execution_count": 19,
   "id": "cbd1b77e",
   "metadata": {},
   "outputs": [
    {
     "name": "stderr",
     "output_type": "stream",
     "text": [
      "'wget' is not recognized as an internal or external command,\n",
      "operable program or batch file.\n"
     ]
    }
   ],
   "source": [
    "!wget -O creditfraud.zip https://www.dropbox.com/s/tl20yp9bcl56oxt/creditcardfraud.zip?dl=0"
   ]
  },
  {
   "cell_type": "code",
   "execution_count": 20,
   "id": "25d0e1dc",
   "metadata": {},
   "outputs": [
    {
     "name": "stderr",
     "output_type": "stream",
     "text": [
      "'unzip' is not recognized as an internal or external command,\n",
      "operable program or batch file.\n"
     ]
    }
   ],
   "source": [
    "!unzip creditfraud.zip"
   ]
  },
  {
   "cell_type": "code",
   "execution_count": 21,
   "id": "78b9d404",
   "metadata": {},
   "outputs": [],
   "source": [
    "import pandas as pd\n",
    "import numpy as np\n",
    "import seaborn as sns\n",
    "import matplotlib.pyplot as plt \n",
    "import matplotlib.ticker as ticker\n",
    "from sklearn.model_selection import train_test_split\n",
    "from sklearn.linear_model import LogisticRegression\n",
    "from sklearn import metrics\n",
    "from sklearn.preprocessing import StandardScaler\n",
    "from keras.models import Model, load_model\n",
    "from keras.layers import Input, Dense"
   ]
  },
  {
   "cell_type": "code",
   "execution_count": 23,
   "id": "52d7065f",
   "metadata": {},
   "outputs": [
    {
     "data": {
      "text/html": [
       "<div>\n",
       "<style scoped>\n",
       "    .dataframe tbody tr th:only-of-type {\n",
       "        vertical-align: middle;\n",
       "    }\n",
       "\n",
       "    .dataframe tbody tr th {\n",
       "        vertical-align: top;\n",
       "    }\n",
       "\n",
       "    .dataframe thead th {\n",
       "        text-align: right;\n",
       "    }\n",
       "</style>\n",
       "<table border=\"1\" class=\"dataframe\">\n",
       "  <thead>\n",
       "    <tr style=\"text-align: right;\">\n",
       "      <th></th>\n",
       "      <th>Time</th>\n",
       "      <th>V1</th>\n",
       "      <th>V2</th>\n",
       "      <th>V3</th>\n",
       "      <th>V4</th>\n",
       "      <th>V5</th>\n",
       "      <th>V6</th>\n",
       "      <th>V7</th>\n",
       "      <th>V8</th>\n",
       "      <th>V9</th>\n",
       "      <th>...</th>\n",
       "      <th>V21</th>\n",
       "      <th>V22</th>\n",
       "      <th>V23</th>\n",
       "      <th>V24</th>\n",
       "      <th>V25</th>\n",
       "      <th>V26</th>\n",
       "      <th>V27</th>\n",
       "      <th>V28</th>\n",
       "      <th>Amount</th>\n",
       "      <th>Class</th>\n",
       "    </tr>\n",
       "  </thead>\n",
       "  <tbody>\n",
       "    <tr>\n",
       "      <th>0</th>\n",
       "      <td>0.0</td>\n",
       "      <td>-1.359807</td>\n",
       "      <td>-0.072781</td>\n",
       "      <td>2.536347</td>\n",
       "      <td>1.378155</td>\n",
       "      <td>-0.338321</td>\n",
       "      <td>0.462388</td>\n",
       "      <td>0.239599</td>\n",
       "      <td>0.098698</td>\n",
       "      <td>0.363787</td>\n",
       "      <td>...</td>\n",
       "      <td>-0.018307</td>\n",
       "      <td>0.277838</td>\n",
       "      <td>-0.110474</td>\n",
       "      <td>0.066928</td>\n",
       "      <td>0.128539</td>\n",
       "      <td>-0.189115</td>\n",
       "      <td>0.133558</td>\n",
       "      <td>-0.021053</td>\n",
       "      <td>149.62</td>\n",
       "      <td>0</td>\n",
       "    </tr>\n",
       "    <tr>\n",
       "      <th>1</th>\n",
       "      <td>0.0</td>\n",
       "      <td>1.191857</td>\n",
       "      <td>0.266151</td>\n",
       "      <td>0.166480</td>\n",
       "      <td>0.448154</td>\n",
       "      <td>0.060018</td>\n",
       "      <td>-0.082361</td>\n",
       "      <td>-0.078803</td>\n",
       "      <td>0.085102</td>\n",
       "      <td>-0.255425</td>\n",
       "      <td>...</td>\n",
       "      <td>-0.225775</td>\n",
       "      <td>-0.638672</td>\n",
       "      <td>0.101288</td>\n",
       "      <td>-0.339846</td>\n",
       "      <td>0.167170</td>\n",
       "      <td>0.125895</td>\n",
       "      <td>-0.008983</td>\n",
       "      <td>0.014724</td>\n",
       "      <td>2.69</td>\n",
       "      <td>0</td>\n",
       "    </tr>\n",
       "    <tr>\n",
       "      <th>2</th>\n",
       "      <td>1.0</td>\n",
       "      <td>-1.358354</td>\n",
       "      <td>-1.340163</td>\n",
       "      <td>1.773209</td>\n",
       "      <td>0.379780</td>\n",
       "      <td>-0.503198</td>\n",
       "      <td>1.800499</td>\n",
       "      <td>0.791461</td>\n",
       "      <td>0.247676</td>\n",
       "      <td>-1.514654</td>\n",
       "      <td>...</td>\n",
       "      <td>0.247998</td>\n",
       "      <td>0.771679</td>\n",
       "      <td>0.909412</td>\n",
       "      <td>-0.689281</td>\n",
       "      <td>-0.327642</td>\n",
       "      <td>-0.139097</td>\n",
       "      <td>-0.055353</td>\n",
       "      <td>-0.059752</td>\n",
       "      <td>378.66</td>\n",
       "      <td>0</td>\n",
       "    </tr>\n",
       "    <tr>\n",
       "      <th>3</th>\n",
       "      <td>1.0</td>\n",
       "      <td>-0.966272</td>\n",
       "      <td>-0.185226</td>\n",
       "      <td>1.792993</td>\n",
       "      <td>-0.863291</td>\n",
       "      <td>-0.010309</td>\n",
       "      <td>1.247203</td>\n",
       "      <td>0.237609</td>\n",
       "      <td>0.377436</td>\n",
       "      <td>-1.387024</td>\n",
       "      <td>...</td>\n",
       "      <td>-0.108300</td>\n",
       "      <td>0.005274</td>\n",
       "      <td>-0.190321</td>\n",
       "      <td>-1.175575</td>\n",
       "      <td>0.647376</td>\n",
       "      <td>-0.221929</td>\n",
       "      <td>0.062723</td>\n",
       "      <td>0.061458</td>\n",
       "      <td>123.50</td>\n",
       "      <td>0</td>\n",
       "    </tr>\n",
       "    <tr>\n",
       "      <th>4</th>\n",
       "      <td>2.0</td>\n",
       "      <td>-1.158233</td>\n",
       "      <td>0.877737</td>\n",
       "      <td>1.548718</td>\n",
       "      <td>0.403034</td>\n",
       "      <td>-0.407193</td>\n",
       "      <td>0.095921</td>\n",
       "      <td>0.592941</td>\n",
       "      <td>-0.270533</td>\n",
       "      <td>0.817739</td>\n",
       "      <td>...</td>\n",
       "      <td>-0.009431</td>\n",
       "      <td>0.798278</td>\n",
       "      <td>-0.137458</td>\n",
       "      <td>0.141267</td>\n",
       "      <td>-0.206010</td>\n",
       "      <td>0.502292</td>\n",
       "      <td>0.219422</td>\n",
       "      <td>0.215153</td>\n",
       "      <td>69.99</td>\n",
       "      <td>0</td>\n",
       "    </tr>\n",
       "  </tbody>\n",
       "</table>\n",
       "<p>5 rows × 31 columns</p>\n",
       "</div>"
      ],
      "text/plain": [
       "   Time        V1        V2        V3        V4        V5        V6        V7  \\\n",
       "0   0.0 -1.359807 -0.072781  2.536347  1.378155 -0.338321  0.462388  0.239599   \n",
       "1   0.0  1.191857  0.266151  0.166480  0.448154  0.060018 -0.082361 -0.078803   \n",
       "2   1.0 -1.358354 -1.340163  1.773209  0.379780 -0.503198  1.800499  0.791461   \n",
       "3   1.0 -0.966272 -0.185226  1.792993 -0.863291 -0.010309  1.247203  0.237609   \n",
       "4   2.0 -1.158233  0.877737  1.548718  0.403034 -0.407193  0.095921  0.592941   \n",
       "\n",
       "         V8        V9  ...       V21       V22       V23       V24       V25  \\\n",
       "0  0.098698  0.363787  ... -0.018307  0.277838 -0.110474  0.066928  0.128539   \n",
       "1  0.085102 -0.255425  ... -0.225775 -0.638672  0.101288 -0.339846  0.167170   \n",
       "2  0.247676 -1.514654  ...  0.247998  0.771679  0.909412 -0.689281 -0.327642   \n",
       "3  0.377436 -1.387024  ... -0.108300  0.005274 -0.190321 -1.175575  0.647376   \n",
       "4 -0.270533  0.817739  ... -0.009431  0.798278 -0.137458  0.141267 -0.206010   \n",
       "\n",
       "        V26       V27       V28  Amount  Class  \n",
       "0 -0.189115  0.133558 -0.021053  149.62      0  \n",
       "1  0.125895 -0.008983  0.014724    2.69      0  \n",
       "2 -0.139097 -0.055353 -0.059752  378.66      0  \n",
       "3 -0.221929  0.062723  0.061458  123.50      0  \n",
       "4  0.502292  0.219422  0.215153   69.99      0  \n",
       "\n",
       "[5 rows x 31 columns]"
      ]
     },
     "execution_count": 23,
     "metadata": {},
     "output_type": "execute_result"
    }
   ],
   "source": [
    "dat=pd.read_csv('creditcard.csv')\n",
    "dat.head()"
   ]
  },
  {
   "cell_type": "code",
   "execution_count": 24,
   "id": "75ef9cc6",
   "metadata": {},
   "outputs": [
    {
     "data": {
      "text/plain": [
       "0    0.998273\n",
       "1    0.001727\n",
       "Name: Class, dtype: float64"
      ]
     },
     "execution_count": 24,
     "metadata": {},
     "output_type": "execute_result"
    }
   ],
   "source": [
    "dat['Class'].value_counts()/dat['Class'].count()"
   ]
  },
  {
   "cell_type": "code",
   "execution_count": 25,
   "id": "b3c69e26",
   "metadata": {},
   "outputs": [
    {
     "data": {
      "text/plain": [
       "<AxesSubplot:xlabel='Class', ylabel='count'>"
      ]
     },
     "execution_count": 25,
     "metadata": {},
     "output_type": "execute_result"
    },
    {
     "data": {
      "image/png": "[encoded data removed]",
      "text/plain": [
       "<Figure size 432x288 with 1 Axes>"
      ]
     },
     "metadata": {
      "needs_background": "light"
     },
     "output_type": "display_data"
    }
   ],
   "source": [
    "sns.countplot(x='Class',data=dat)"
   ]
  },
  {
   "cell_type": "code",
   "execution_count": 26,
   "id": "0aec5e2f",
   "metadata": {},
   "outputs": [
    {
     "name": "stderr",
     "output_type": "stream",
     "text": [
      "C:\\Users\\adity\\AppData\\Local\\Temp\\ipykernel_10524\\1485037447.py:1: FutureWarning: In a future version of pandas all arguments of DataFrame.drop except for the argument 'labels' will be keyword-only.\n",
      "  dat = dat.drop([ 'Time'], 1)\n"
     ]
    }
   ],
   "source": [
    "dat = dat.drop([ 'Time'], 1)\n",
    "dat['Amount'] = StandardScaler().fit_transform(dat['Amount'].values.reshape(-1, 1))"
   ]
  },
  {
   "cell_type": "code",
   "execution_count": 27,
   "id": "f46f9c86",
   "metadata": {},
   "outputs": [
    {
     "name": "stderr",
     "output_type": "stream",
     "text": [
      "C:\\Users\\adity\\AppData\\Local\\Temp\\ipykernel_10524\\3396225669.py:1: FutureWarning: In a future version of pandas all arguments of DataFrame.drop except for the argument 'labels' will be keyword-only.\n",
      "  X_train, X_test, y_train, y_test = train_test_split(dat.drop('Class',1) , dat['Class'], test_size=0.5, random_state=0)\n"
     ]
    }
   ],
   "source": [
    "X_train, X_test, y_train, y_test = train_test_split(dat.drop('Class',1) , dat['Class'], test_size=0.5, random_state=0)"
   ]
  },
  {
   "cell_type": "code",
   "execution_count": 28,
   "id": "68581c85",
   "metadata": {},
   "outputs": [
    {
     "data": {
      "text/plain": [
       "0    0.998294\n",
       "1    0.001706\n",
       "Name: Class, dtype: float64"
      ]
     },
     "execution_count": 28,
     "metadata": {},
     "output_type": "execute_result"
    }
   ],
   "source": [
    "y_test.value_counts()/y_test.count()"
   ]
  },
  {
   "cell_type": "code",
   "execution_count": 29,
   "id": "44a02e61",
   "metadata": {},
   "outputs": [
    {
     "data": {
      "text/plain": [
       "0    0.998251\n",
       "1    0.001749\n",
       "Name: Class, dtype: float64"
      ]
     },
     "execution_count": 29,
     "metadata": {},
     "output_type": "execute_result"
    }
   ],
   "source": [
    "y_train.value_counts()/y_train.count()"
   ]
  },
  {
   "cell_type": "code",
   "execution_count": 30,
   "id": "9252369e",
   "metadata": {},
   "outputs": [],
   "source": [
    "X_train_normal = X_train[y_train==0]\n",
    "X_train_fraud = X_train[y_train==1]"
   ]
  },
  {
   "cell_type": "code",
   "execution_count": 31,
   "id": "4380d5df",
   "metadata": {},
   "outputs": [],
   "source": [
    "input_layer = Input(shape=(29, ))\n",
    "encoded = Dense(12,activation='tanh')(input_layer)\n",
    "decoded = Dense(29,activation='sigmoid')(encoded)\n",
    "autoencoder = Model(input_layer,decoded)"
   ]
  },
  {
   "cell_type": "code",
   "execution_count": 32,
   "id": "bf2d33c7",
   "metadata": {},
   "outputs": [],
   "source": [
    "autoencoder.compile(optimizer='adam',loss='mean_squared_error')"
   ]
  },
  {
   "cell_type": "code",
   "execution_count": 33,
   "id": "bc6d2b5e",
   "metadata": {},
   "outputs": [
    {
     "name": "stdout",
     "output_type": "stream",
     "text": [
      "Epoch 1/100\n",
      "1111/1111 [==============================] - 2s 2ms/step - loss: 0.9973 - val_loss: 0.8883\n",
      "Epoch 2/100\n",
      "1111/1111 [==============================] - 1s 1ms/step - loss: 0.8627 - val_loss: 0.8444\n",
      "Epoch 3/100\n",
      "1111/1111 [==============================] - 1s 1ms/step - loss: 0.8339 - val_loss: 0.8253\n",
      "Epoch 4/100\n",
      "1111/1111 [==============================] - 2s 1ms/step - loss: 0.8193 - val_loss: 0.8140\n",
      "Epoch 5/100\n",
      "1111/1111 [==============================] - 2s 1ms/step - loss: 0.8100 - val_loss: 0.8062\n",
      "Epoch 6/100\n",
      "1111/1111 [==============================] - 2s 1ms/step - loss: 0.8033 - val_loss: 0.8005\n",
      "Epoch 7/100\n",
      "1111/1111 [==============================] - 2s 1ms/step - loss: 0.7983 - val_loss: 0.7962\n",
      "Epoch 8/100\n",
      "1111/1111 [==============================] - 1s 1ms/step - loss: 0.7945 - val_loss: 0.7927\n",
      "Epoch 9/100\n",
      "1111/1111 [==============================] - 1s 1ms/step - loss: 0.7915 - val_loss: 0.7901\n",
      "Epoch 10/100\n",
      "1111/1111 [==============================] - 2s 1ms/step - loss: 0.7891 - val_loss: 0.7880\n",
      "Epoch 11/100\n",
      "1111/1111 [==============================] - 1s 1ms/step - loss: 0.7872 - val_loss: 0.7863\n",
      "Epoch 12/100\n",
      "1111/1111 [==============================] - 1s 1ms/step - loss: 0.7856 - val_loss: 0.7848\n",
      "Epoch 13/100\n",
      "1111/1111 [==============================] - 1s 1ms/step - loss: 0.7843 - val_loss: 0.7835\n",
      "Epoch 14/100\n",
      "1111/1111 [==============================] - 1s 1ms/step - loss: 0.7831 - val_loss: 0.7824\n",
      "Epoch 15/100\n",
      "1111/1111 [==============================] - 2s 1ms/step - loss: 0.7820 - val_loss: 0.7815\n",
      "Epoch 16/100\n",
      "1111/1111 [==============================] - 2s 1ms/step - loss: 0.7809 - val_loss: 0.7803\n",
      "Epoch 17/100\n",
      "1111/1111 [==============================] - 2s 2ms/step - loss: 0.7799 - val_loss: 0.7794\n",
      "Epoch 18/100\n",
      "1111/1111 [==============================] - 2s 1ms/step - loss: 0.7790 - val_loss: 0.7785\n",
      "Epoch 19/100\n",
      "1111/1111 [==============================] - 1s 1ms/step - loss: 0.7782 - val_loss: 0.7777\n",
      "Epoch 20/100\n",
      "1111/1111 [==============================] - 2s 2ms/step - loss: 0.7774 - val_loss: 0.7770\n",
      "Epoch 21/100\n",
      "1111/1111 [==============================] - 2s 2ms/step - loss: 0.7768 - val_loss: 0.7764\n",
      "Epoch 22/100\n",
      "1111/1111 [==============================] - 2s 2ms/step - loss: 0.7761 - val_loss: 0.7759\n",
      "Epoch 23/100\n",
      "1111/1111 [==============================] - 2s 2ms/step - loss: 0.7757 - val_loss: 0.7754\n",
      "Epoch 24/100\n",
      "1111/1111 [==============================] - 2s 1ms/step - loss: 0.7753 - val_loss: 0.7749\n",
      "Epoch 25/100\n",
      "1111/1111 [==============================] - 2s 1ms/step - loss: 0.7749 - val_loss: 0.7746\n",
      "Epoch 26/100\n",
      "1111/1111 [==============================] - 2s 2ms/step - loss: 0.7746 - val_loss: 0.7743\n",
      "Epoch 27/100\n",
      "1111/1111 [==============================] - 2s 1ms/step - loss: 0.7743 - val_loss: 0.7740\n",
      "Epoch 28/100\n",
      "1111/1111 [==============================] - 2s 1ms/step - loss: 0.7740 - val_loss: 0.7738\n",
      "Epoch 29/100\n",
      "1111/1111 [==============================] - 2s 1ms/step - loss: 0.7737 - val_loss: 0.7735\n",
      "Epoch 30/100\n",
      "1111/1111 [==============================] - 2s 2ms/step - loss: 0.7735 - val_loss: 0.7733\n",
      "Epoch 31/100\n",
      "1111/1111 [==============================] - 2s 1ms/step - loss: 0.7733 - val_loss: 0.7731\n",
      "Epoch 32/100\n",
      "1111/1111 [==============================] - 2s 1ms/step - loss: 0.7731 - val_loss: 0.7729\n",
      "Epoch 33/100\n",
      "1111/1111 [==============================] - 2s 1ms/step - loss: 0.7729 - val_loss: 0.7727\n",
      "Epoch 34/100\n",
      "1111/1111 [==============================] - 1s 1ms/step - loss: 0.7728 - val_loss: 0.7728\n",
      "Epoch 35/100\n",
      "1111/1111 [==============================] - 2s 1ms/step - loss: 0.7726 - val_loss: 0.7724\n",
      "Epoch 36/100\n",
      "1111/1111 [==============================] - 2s 1ms/step - loss: 0.7725 - val_loss: 0.7722\n",
      "Epoch 37/100\n",
      "1111/1111 [==============================] - 2s 1ms/step - loss: 0.7723 - val_loss: 0.7722\n",
      "Epoch 38/100\n",
      "1111/1111 [==============================] - 2s 1ms/step - loss: 0.7722 - val_loss: 0.7720\n",
      "Epoch 39/100\n",
      "1111/1111 [==============================] - 2s 1ms/step - loss: 0.7721 - val_loss: 0.7721\n",
      "Epoch 40/100\n",
      "1111/1111 [==============================] - 2s 1ms/step - loss: 0.7720 - val_loss: 0.7718\n",
      "Epoch 41/100\n",
      "1111/1111 [==============================] - 2s 1ms/step - loss: 0.7720 - val_loss: 0.7718\n",
      "Epoch 42/100\n",
      "1111/1111 [==============================] - 1s 1ms/step - loss: 0.7717 - val_loss: 0.7716\n",
      "Epoch 43/100\n",
      "1111/1111 [==============================] - 2s 1ms/step - loss: 0.7717 - val_loss: 0.7717\n",
      "Epoch 44/100\n",
      "1111/1111 [==============================] - 1s 1ms/step - loss: 0.7716 - val_loss: 0.7714\n",
      "Epoch 45/100\n",
      "1111/1111 [==============================] - 2s 2ms/step - loss: 0.7715 - val_loss: 0.7717\n",
      "Epoch 46/100\n",
      "1111/1111 [==============================] - 2s 1ms/step - loss: 0.7714 - val_loss: 0.7712\n",
      "Epoch 47/100\n",
      "1111/1111 [==============================] - 1s 1ms/step - loss: 0.7714 - val_loss: 0.7713\n",
      "Epoch 48/100\n",
      "1111/1111 [==============================] - 1s 1ms/step - loss: 0.7712 - val_loss: 0.7711\n",
      "Epoch 49/100\n",
      "1111/1111 [==============================] - 1s 1ms/step - loss: 0.7712 - val_loss: 0.7712\n",
      "Epoch 50/100\n",
      "1111/1111 [==============================] - 2s 1ms/step - loss: 0.7711 - val_loss: 0.7709\n",
      "Epoch 51/100\n",
      "1111/1111 [==============================] - 1s 1ms/step - loss: 0.7711 - val_loss: 0.7709\n",
      "Epoch 52/100\n",
      "1111/1111 [==============================] - 2s 1ms/step - loss: 0.7711 - val_loss: 0.7710\n",
      "Epoch 53/100\n",
      "1111/1111 [==============================] - 2s 1ms/step - loss: 0.7709 - val_loss: 0.7708\n",
      "Epoch 54/100\n",
      "1111/1111 [==============================] - 2s 1ms/step - loss: 0.7708 - val_loss: 0.7710\n",
      "Epoch 55/100\n",
      "1111/1111 [==============================] - 2s 2ms/step - loss: 0.7708 - val_loss: 0.7708\n",
      "Epoch 56/100\n",
      "1111/1111 [==============================] - 2s 2ms/step - loss: 0.7709 - val_loss: 0.7709\n",
      "Epoch 57/100\n",
      "1111/1111 [==============================] - 2s 2ms/step - loss: 0.7707 - val_loss: 0.7706\n",
      "Epoch 58/100\n",
      "1111/1111 [==============================] - 2s 1ms/step - loss: 0.7706 - val_loss: 0.7705\n",
      "Epoch 59/100\n",
      "1111/1111 [==============================] - 2s 1ms/step - loss: 0.7706 - val_loss: 0.7705\n",
      "Epoch 60/100\n",
      "1111/1111 [==============================] - 2s 1ms/step - loss: 0.7705 - val_loss: 0.7705\n",
      "Epoch 61/100\n",
      "1111/1111 [==============================] - 2s 1ms/step - loss: 0.7705 - val_loss: 0.7703\n",
      "Epoch 62/100\n",
      "1111/1111 [==============================] - 2s 1ms/step - loss: 0.7704 - val_loss: 0.7702\n",
      "Epoch 63/100\n",
      "1111/1111 [==============================] - 2s 2ms/step - loss: 0.7704 - val_loss: 0.7710\n",
      "Epoch 64/100\n",
      "1111/1111 [==============================] - 2s 1ms/step - loss: 0.7704 - val_loss: 0.7702\n",
      "Epoch 65/100\n",
      "1111/1111 [==============================] - 2s 1ms/step - loss: 0.7703 - val_loss: 0.7703\n",
      "Epoch 66/100\n",
      "1111/1111 [==============================] - 2s 1ms/step - loss: 0.7703 - val_loss: 0.7700\n",
      "Epoch 67/100\n",
      "1111/1111 [==============================] - 2s 1ms/step - loss: 0.7702 - val_loss: 0.7700\n",
      "Epoch 68/100\n",
      "1111/1111 [==============================] - 2s 1ms/step - loss: 0.7702 - val_loss: 0.7704\n",
      "Epoch 69/100\n",
      "1111/1111 [==============================] - 2s 2ms/step - loss: 0.7701 - val_loss: 0.7700\n",
      "Epoch 70/100\n",
      "1111/1111 [==============================] - 2s 1ms/step - loss: 0.7701 - val_loss: 0.7703\n",
      "Epoch 71/100\n",
      "1111/1111 [==============================] - 1s 1ms/step - loss: 0.7701 - val_loss: 0.7699\n",
      "Epoch 72/100\n",
      "1111/1111 [==============================] - 2s 1ms/step - loss: 0.7700 - val_loss: 0.7700\n",
      "Epoch 73/100\n",
      "1111/1111 [==============================] - 2s 1ms/step - loss: 0.7700 - val_loss: 0.7699\n",
      "Epoch 74/100\n",
      "1111/1111 [==============================] - 2s 1ms/step - loss: 0.7701 - val_loss: 0.7698\n",
      "Epoch 75/100\n",
      "1111/1111 [==============================] - 2s 1ms/step - loss: 0.7700 - val_loss: 0.7697\n",
      "Epoch 76/100\n",
      "1111/1111 [==============================] - 2s 2ms/step - loss: 0.7699 - val_loss: 0.7697\n",
      "Epoch 77/100\n",
      "1111/1111 [==============================] - 2s 1ms/step - loss: 0.7698 - val_loss: 0.7697\n",
      "Epoch 78/100\n",
      "1111/1111 [==============================] - 2s 1ms/step - loss: 0.7698 - val_loss: 0.7697\n",
      "Epoch 79/100\n",
      "1111/1111 [==============================] - 2s 1ms/step - loss: 0.7698 - val_loss: 0.7697\n"
     ]
    },
    {
     "name": "stdout",
     "output_type": "stream",
     "text": [
      "Epoch 80/100\n",
      "1111/1111 [==============================] - 2s 1ms/step - loss: 0.7697 - val_loss: 0.7697\n",
      "Epoch 81/100\n",
      "1111/1111 [==============================] - 2s 1ms/step - loss: 0.7697 - val_loss: 0.7696\n",
      "Epoch 82/100\n",
      "1111/1111 [==============================] - 2s 2ms/step - loss: 0.7697 - val_loss: 0.7697\n",
      "Epoch 83/100\n",
      "1111/1111 [==============================] - 2s 2ms/step - loss: 0.7696 - val_loss: 0.7695\n",
      "Epoch 84/100\n",
      "1111/1111 [==============================] - 2s 1ms/step - loss: 0.7696 - val_loss: 0.7694\n",
      "Epoch 85/100\n",
      "1111/1111 [==============================] - 2s 1ms/step - loss: 0.7697 - val_loss: 0.7695\n",
      "Epoch 86/100\n",
      "1111/1111 [==============================] - 2s 1ms/step - loss: 0.7695 - val_loss: 0.7694\n",
      "Epoch 87/100\n",
      "1111/1111 [==============================] - 2s 1ms/step - loss: 0.7695 - val_loss: 0.7693\n",
      "Epoch 88/100\n",
      "1111/1111 [==============================] - 2s 1ms/step - loss: 0.7695 - val_loss: 0.7695\n",
      "Epoch 89/100\n",
      "1111/1111 [==============================] - 2s 2ms/step - loss: 0.7694 - val_loss: 0.7695\n",
      "Epoch 90/100\n",
      "1111/1111 [==============================] - 2s 1ms/step - loss: 0.7694 - val_loss: 0.7692\n",
      "Epoch 91/100\n",
      "1111/1111 [==============================] - 2s 1ms/step - loss: 0.7694 - val_loss: 0.7694\n",
      "Epoch 92/100\n",
      "1111/1111 [==============================] - 1s 1ms/step - loss: 0.7694 - val_loss: 0.7692\n",
      "Epoch 93/100\n",
      "1111/1111 [==============================] - 2s 1ms/step - loss: 0.7693 - val_loss: 0.7692\n",
      "Epoch 94/100\n",
      "1111/1111 [==============================] - 2s 1ms/step - loss: 0.7693 - val_loss: 0.7692\n",
      "Epoch 95/100\n",
      "1111/1111 [==============================] - 2s 2ms/step - loss: 0.7693 - val_loss: 0.7692\n",
      "Epoch 96/100\n",
      "1111/1111 [==============================] - 2s 1ms/step - loss: 0.7692 - val_loss: 0.7692\n",
      "Epoch 97/100\n",
      "1111/1111 [==============================] - 2s 1ms/step - loss: 0.7693 - val_loss: 0.7694\n",
      "Epoch 98/100\n",
      "1111/1111 [==============================] - 2s 1ms/step - loss: 0.7691 - val_loss: 0.7692\n",
      "Epoch 99/100\n",
      "1111/1111 [==============================] - 2s 1ms/step - loss: 0.7691 - val_loss: 0.7690\n",
      "Epoch 100/100\n",
      "1111/1111 [==============================] - 2s 1ms/step - loss: 0.7692 - val_loss: 0.7690\n"
     ]
    },
    {
     "data": {
      "text/plain": [
       "<keras.callbacks.History at 0x2546aa46e50>"
      ]
     },
     "execution_count": 33,
     "metadata": {},
     "output_type": "execute_result"
    }
   ],
   "source": [
    "autoencoder.fit(X_train_normal, X_train_normal, epochs = 100, batch_size=128,\n",
    "validation_data=(X_train_normal,X_train_normal))"
   ]
  },
  {
   "cell_type": "code",
   "execution_count": 34,
   "id": "a4a9b633",
   "metadata": {},
   "outputs": [
    {
     "name": "stdout",
     "output_type": "stream",
     "text": [
      "4451/4451 [==============================] - 3s 614us/step\n"
     ]
    },
    {
     "data": {
      "text/html": [
       "<div>\n",
       "<style scoped>\n",
       "    .dataframe tbody tr th:only-of-type {\n",
       "        vertical-align: middle;\n",
       "    }\n",
       "\n",
       "    .dataframe tbody tr th {\n",
       "        vertical-align: top;\n",
       "    }\n",
       "\n",
       "    .dataframe thead tr th {\n",
       "        text-align: left;\n",
       "    }\n",
       "\n",
       "    .dataframe thead tr:last-of-type th {\n",
       "        text-align: right;\n",
       "    }\n",
       "</style>\n",
       "<table border=\"1\" class=\"dataframe\">\n",
       "  <thead>\n",
       "    <tr>\n",
       "      <th></th>\n",
       "      <th colspan=\"8\" halign=\"left\">reconstruction_error</th>\n",
       "    </tr>\n",
       "    <tr>\n",
       "      <th></th>\n",
       "      <th>count</th>\n",
       "      <th>mean</th>\n",
       "      <th>std</th>\n",
       "      <th>min</th>\n",
       "      <th>25%</th>\n",
       "      <th>50%</th>\n",
       "      <th>75%</th>\n",
       "      <th>max</th>\n",
       "    </tr>\n",
       "    <tr>\n",
       "      <th>true_class</th>\n",
       "      <th></th>\n",
       "      <th></th>\n",
       "      <th></th>\n",
       "      <th></th>\n",
       "      <th></th>\n",
       "      <th></th>\n",
       "      <th></th>\n",
       "      <th></th>\n",
       "    </tr>\n",
       "  </thead>\n",
       "  <tbody>\n",
       "    <tr>\n",
       "      <th>0</th>\n",
       "      <td>142154.0</td>\n",
       "      <td>0.768960</td>\n",
       "      <td>3.436019</td>\n",
       "      <td>0.031550</td>\n",
       "      <td>0.228727</td>\n",
       "      <td>0.395894</td>\n",
       "      <td>0.649056</td>\n",
       "      <td>317.789195</td>\n",
       "    </tr>\n",
       "    <tr>\n",
       "      <th>1</th>\n",
       "      <td>249.0</td>\n",
       "      <td>30.271693</td>\n",
       "      <td>42.960448</td>\n",
       "      <td>0.135221</td>\n",
       "      <td>4.527020</td>\n",
       "      <td>11.328125</td>\n",
       "      <td>27.467501</td>\n",
       "      <td>278.643008</td>\n",
       "    </tr>\n",
       "  </tbody>\n",
       "</table>\n",
       "</div>"
      ],
      "text/plain": [
       "           reconstruction_error                                            \\\n",
       "                          count       mean        std       min       25%   \n",
       "true_class                                                                  \n",
       "0                      142154.0   0.768960   3.436019  0.031550  0.228727   \n",
       "1                         249.0  30.271693  42.960448  0.135221  4.527020   \n",
       "\n",
       "                                              \n",
       "                  50%        75%         max  \n",
       "true_class                                    \n",
       "0            0.395894   0.649056  317.789195  \n",
       "1           11.328125  27.467501  278.643008  "
      ]
     },
     "execution_count": 34,
     "metadata": {},
     "output_type": "execute_result"
    }
   ],
   "source": [
    "predictions = autoencoder.predict(X_train)\n",
    "mse = np.mean(np.power(X_train - predictions, 2), axis=1)\n",
    "error_df = pd.DataFrame({'reconstruction_error': mse,\n",
    "                        'true_class': y_train})\n",
    "error_df.groupby('true_class').describe()"
   ]
  },
  {
   "cell_type": "code",
   "execution_count": 35,
   "id": "0844c02c",
   "metadata": {},
   "outputs": [
    {
     "name": "stdout",
     "output_type": "stream",
     "text": [
      "4451/4451 [==============================] - 2s 545us/step\n"
     ]
    }
   ],
   "source": [
    "test_predictions=autoencoder.predict(X_test)\n",
    "mse = np.mean(np.power(X_test - test_predictions, 2), axis=1)\n",
    "y_pred=[(lambda er: 1 if er>=11.078922  else 0)(er) for er in mse]"
   ]
  },
  {
   "cell_type": "code",
   "execution_count": 36,
   "id": "853306b5",
   "metadata": {},
   "outputs": [
    {
     "data": {
      "image/png": "[encoded data removed]",
      "text/plain": [
       "<Figure size 432x288 with 2 Axes>"
      ]
     },
     "metadata": {
      "needs_background": "light"
     },
     "output_type": "display_data"
    }
   ],
   "source": [
    "conf_matrix = metrics.confusion_matrix(y_test,y_pred)\n",
    "\n",
    "ax=plt.subplot()\n",
    "sns.heatmap(conf_matrix,annot=True,ax=ax,fmt='g')#annot=True to annotate cells, fmt='g' numbers not scientific form\n",
    "ax.set_xlabel('Predicted labels'); ax.set_ylabel('True labels')\n",
    "ax.set_title('Confusion Matrix'); \n",
    "ax.xaxis.set_ticklabels(['Normal', 'Fraud']); ax.yaxis.set_ticklabels(['Normal', 'Fraud']);\n",
    "ax.set(yticks=[0, 2], \n",
    "       xticks=[0.5, 1.5])\n",
    "ax.yaxis.set_major_locator(ticker.IndexLocator(base=1, offset=0.5))"
   ]
  },
  {
   "cell_type": "code",
   "execution_count": null,
   "id": "91f2b0b2",
   "metadata": {},
   "outputs": [],
   "source": []
  }
 ],
 "metadata": {
  "kernelspec": {
   "display_name": "Python 3 (ipykernel)",
   "language": "python",
   "name": "python3"
  },
  "language_info": {
   "codemirror_mode": {
    "name": "ipython",
    "version": 3
   },
   "file_extension": ".py",
   "mimetype": "text/x-python",
   "name": "python",
   "nbconvert_exporter": "python",
   "pygments_lexer": "ipython3",
   "version": "3.9.13"
  }
 },
 "nbformat": 4,
 "nbformat_minor": 5
}
