{
 "cells": [
  {
   "cell_type": "code",
   "execution_count": 1,
   "id": "d2916b98",
   "metadata": {},
   "outputs": [],
   "source": [
    "import pandas as pd\n",
    "import numpy as np\n",
    "import matplotlib.pyplot as plt\n",
    "from tensorflow.keras.preprocessing.image import ImageDataGenerator"
   ]
  },
  {
   "cell_type": "code",
   "execution_count": 2,
   "id": "2c8cd5bc",
   "metadata": {},
   "outputs": [
    {
     "name": "stdout",
     "output_type": "stream",
     "text": [
      "Found 9144 images belonging to 102 classes.\n"
     ]
    }
   ],
   "source": [
    "dataset_dir='caltech-101-img'\n",
    "dataset_datagen=ImageDataGenerator(\n",
    "    rescale=1.0/255\n",
    ")\n",
    "\n",
    "batch_size=2000\n",
    "dataset_generator=dataset_datagen.flow_from_directory(dataset_dir,target_size=(64,64),batch_size=batch_size,class_mode='categorical')"
   ]
  },
  {
   "cell_type": "code",
   "execution_count": 3,
   "id": "07214eba",
   "metadata": {},
   "outputs": [
    {
     "name": "stdout",
     "output_type": "stream",
     "text": [
      "2000\n",
      "2000\n"
     ]
    }
   ],
   "source": [
    "x_train,y_train=dataset_generator[0]\n",
    "x_test,y_test=dataset_generator[1]\n",
    "\n",
    "print(len(x_train))\n",
    "print(len(x_test))"
   ]
  },
  {
   "cell_type": "code",
   "execution_count": 4,
   "id": "9b3ed8da",
   "metadata": {},
   "outputs": [],
   "source": [
    "from tensorflow.keras.models import Model\n",
    "from tensorflow.keras.layers import Dense,Flatten\n",
    "from tensorflow.keras.optimizers import Adam"
   ]
  },
  {
   "cell_type": "code",
   "execution_count": 5,
   "id": "7f18f0c4",
   "metadata": {},
   "outputs": [],
   "source": [
    "from tensorflow.keras.applications import VGG16"
   ]
  },
  {
   "cell_type": "code",
   "execution_count": 6,
   "id": "a71bd314",
   "metadata": {},
   "outputs": [],
   "source": [
    "weights_path='vgg16_weights_tf_dim_ordering_tf_kernels_notop.h5'\n",
    "base_model=VGG16(weights=weights_path,include_top=False,input_shape=(64,64,3))"
   ]
  },
  {
   "cell_type": "code",
   "execution_count": 110,
   "id": "51fe2bc7",
   "metadata": {},
   "outputs": [],
   "source": [
    "for layer in base_model.layers:\n",
    "    layer.trainable=False"
   ]
  },
  {
   "cell_type": "code",
   "execution_count": 114,
   "id": "cfd96718",
   "metadata": {},
   "outputs": [
    {
     "name": "stdout",
     "output_type": "stream",
     "text": [
      "Model: \"model_1\"\n",
      "_________________________________________________________________\n",
      " Layer (type)                Output Shape              Param #   \n",
      "=================================================================\n",
      " input_1 (InputLayer)        [(None, 64, 64, 3)]       0         \n",
      "                                                                 \n",
      " block1_conv1 (Conv2D)       (None, 64, 64, 64)        1792      \n",
      "                                                                 \n",
      " block1_conv2 (Conv2D)       (None, 64, 64, 64)        36928     \n",
      "                                                                 \n",
      " block1_pool (MaxPooling2D)  (None, 32, 32, 64)        0         \n",
      "                                                                 \n",
      " block2_conv1 (Conv2D)       (None, 32, 32, 128)       73856     \n",
      "                                                                 \n",
      " block2_conv2 (Conv2D)       (None, 32, 32, 128)       147584    \n",
      "                                                                 \n",
      " block2_pool (MaxPooling2D)  (None, 16, 16, 128)       0         \n",
      "                                                                 \n",
      " block3_conv1 (Conv2D)       (None, 16, 16, 256)       295168    \n",
      "                                                                 \n",
      " block3_conv2 (Conv2D)       (None, 16, 16, 256)       590080    \n",
      "                                                                 \n",
      " block3_conv3 (Conv2D)       (None, 16, 16, 256)       590080    \n",
      "                                                                 \n",
      " block3_pool (MaxPooling2D)  (None, 8, 8, 256)         0         \n",
      "                                                                 \n",
      " block4_conv1 (Conv2D)       (None, 8, 8, 512)         1180160   \n",
      "                                                                 \n",
      " block4_conv2 (Conv2D)       (None, 8, 8, 512)         2359808   \n",
      "                                                                 \n",
      " block4_conv3 (Conv2D)       (None, 8, 8, 512)         2359808   \n",
      "                                                                 \n",
      " block4_pool (MaxPooling2D)  (None, 4, 4, 512)         0         \n",
      "                                                                 \n",
      " block5_conv1 (Conv2D)       (None, 4, 4, 512)         2359808   \n",
      "                                                                 \n",
      " block5_conv2 (Conv2D)       (None, 4, 4, 512)         2359808   \n",
      "                                                                 \n",
      " block5_conv3 (Conv2D)       (None, 4, 4, 512)         2359808   \n",
      "                                                                 \n",
      " block5_pool (MaxPooling2D)  (None, 2, 2, 512)         0         \n",
      "                                                                 \n",
      " flatten_4 (Flatten)         (None, 2048)              0         \n",
      "                                                                 \n",
      " dense_30 (Dense)            (None, 64)                131136    \n",
      "                                                                 \n",
      " dense_31 (Dense)            (None, 102)               6630      \n",
      "                                                                 \n",
      "=================================================================\n",
      "Total params: 14,852,454\n",
      "Trainable params: 137,766\n",
      "Non-trainable params: 14,714,688\n",
      "_________________________________________________________________\n"
     ]
    }
   ],
   "source": [
    "x=Flatten()(base_model.output)\n",
    "x=Dense(64,activation='relu')(x)\n",
    "predictions= Dense(102,activation='softmax')(x)\n",
    "\n",
    "model=Model(inputs=base_model.input,outputs=predictions)\n",
    "model.compile(optimizer='Adam',loss='categorical_crossentropy',metrics=['accuracy'])\n",
    "model.summary()"
   ]
  },
  {
   "cell_type": "code",
   "execution_count": 115,
   "id": "0f8b1575",
   "metadata": {},
   "outputs": [
    {
     "name": "stdout",
     "output_type": "stream",
     "text": [
      "Epoch 1/10\n",
      "32/32 [==============================] - 42s 1s/step - loss: 4.0326 - accuracy: 0.1845 - val_loss: 3.5594 - val_accuracy: 0.2645\n",
      "Epoch 2/10\n",
      "32/32 [==============================] - 43s 1s/step - loss: 3.0853 - accuracy: 0.3445 - val_loss: 3.1089 - val_accuracy: 0.3470\n",
      "Epoch 3/10\n",
      "32/32 [==============================] - 41s 1s/step - loss: 2.5562 - accuracy: 0.4505 - val_loss: 2.7838 - val_accuracy: 0.4125\n",
      "Epoch 4/10\n",
      "32/32 [==============================] - 41s 1s/step - loss: 2.1535 - accuracy: 0.5365 - val_loss: 2.5355 - val_accuracy: 0.4655\n",
      "Epoch 5/10\n",
      "32/32 [==============================] - 40s 1s/step - loss: 1.8400 - accuracy: 0.5970 - val_loss: 2.3553 - val_accuracy: 0.4960\n",
      "Epoch 6/10\n",
      "32/32 [==============================] - 40s 1s/step - loss: 1.6080 - accuracy: 0.6465 - val_loss: 2.2162 - val_accuracy: 0.5150\n",
      "Epoch 7/10\n",
      "32/32 [==============================] - 40s 1s/step - loss: 1.4158 - accuracy: 0.6915 - val_loss: 2.1251 - val_accuracy: 0.5285\n",
      "Epoch 8/10\n",
      "32/32 [==============================] - 40s 1s/step - loss: 1.2611 - accuracy: 0.7310 - val_loss: 2.0682 - val_accuracy: 0.5340\n",
      "Epoch 9/10\n",
      "32/32 [==============================] - 40s 1s/step - loss: 1.1247 - accuracy: 0.7540 - val_loss: 2.0107 - val_accuracy: 0.5470\n",
      "Epoch 10/10\n",
      "32/32 [==============================] - 40s 1s/step - loss: 1.0191 - accuracy: 0.7795 - val_loss: 1.9479 - val_accuracy: 0.5660\n"
     ]
    },
    {
     "data": {
      "text/plain": [
       "<keras.callbacks.History at 0x156d630a580>"
      ]
     },
     "execution_count": 115,
     "metadata": {},
     "output_type": "execute_result"
    }
   ],
   "source": [
    "model.fit(x_train,y_train,batch_size=64,epochs=10,validation_data=(x_test,y_test))"
   ]
  },
  {
   "cell_type": "code",
   "execution_count": 116,
   "id": "159951a9",
   "metadata": {},
   "outputs": [
    {
     "name": "stdout",
     "output_type": "stream",
     "text": [
      "63/63 [==============================] - 20s 317ms/step\n"
     ]
    }
   ],
   "source": [
    "pred=model.predict(x_test)"
   ]
  },
  {
   "cell_type": "code",
   "execution_count": 120,
   "id": "e7d026ba",
   "metadata": {},
   "outputs": [],
   "source": [
    "labels=list(dataset_generator.class_indices.keys())"
   ]
  },
  {
   "cell_type": "code",
   "execution_count": 121,
   "id": "bce9986c",
   "metadata": {},
   "outputs": [
    {
     "name": "stdout",
     "output_type": "stream",
     "text": [
      "kangaroo\n",
      "kangaroo\n"
     ]
    },
    {
     "data": {
      "image/png": "[encoded data removed]",
      "text/plain": [
       "<Figure size 432x288 with 1 Axes>"
      ]
     },
     "metadata": {
      "needs_background": "light"
     },
     "output_type": "display_data"
    }
   ],
   "source": [
    "n=887\n",
    "plt.imshow(x_test[887])\n",
    "print(labels[np.argmax(y_test[887])])\n",
    "print(labels[np.argmax(pred[887])])"
   ]
  },
  {
   "cell_type": "code",
   "execution_count": null,
   "id": "7f8c5876",
   "metadata": {},
   "outputs": [],
   "source": []
  }
 ],
 "metadata": {
  "kernelspec": {
   "display_name": "Python 3 (ipykernel)",
   "language": "python",
   "name": "python3"
  },
  "language_info": {
   "codemirror_mode": {
    "name": "ipython",
    "version": 3
   },
   "file_extension": ".py",
   "mimetype": "text/x-python",
   "name": "python",
   "nbconvert_exporter": "python",
   "pygments_lexer": "ipython3",
   "version": "3.9.13"
  }
 },
 "nbformat": 4,
 "nbformat_minor": 5
}
